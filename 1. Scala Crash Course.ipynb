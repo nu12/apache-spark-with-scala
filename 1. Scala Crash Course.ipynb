{
 "cells": [
  {
   "cell_type": "markdown",
   "id": "132083be",
   "metadata": {},
   "source": [
    "# Scala Crash Course\n",
    "\n",
    "Yet another programming language!\n",
    "\n",
    "## Scala Basics\n",
    "\n",
    "* Runs on top of the JVM. \n",
    "* Can access Java classes.\n",
    "* Functional programming.\n",
    "\n",
    "* Values are immutable constants. Suited fot thread safe parallelism.\n",
    "* Variables are mutable - can be changed after the definition."
   ]
  },
  {
   "cell_type": "code",
   "execution_count": 1,
   "id": "4542ced1",
   "metadata": {},
   "outputs": [
    {
     "data": {
      "text/plain": [
       "Intitializing Scala interpreter ..."
      ]
     },
     "metadata": {},
     "output_type": "display_data"
    },
    {
     "data": {
      "text/plain": [
       "Spark Web UI available at http://07043a0b38e0:4040\n",
       "SparkContext available as 'sc' (version = 3.1.1, master = local[*], app id = local-1624724329854)\n",
       "SparkSession available as 'spark'\n"
      ]
     },
     "metadata": {},
     "output_type": "display_data"
    },
    {
     "data": {
      "text/plain": [
       "hello: String = Salut!\n"
      ]
     },
     "execution_count": 1,
     "metadata": {},
     "output_type": "execute_result"
    }
   ],
   "source": [
    "// This is a comment\n",
    "\n",
    "// Defining a value\n",
    "val hello: String = \"Salut!\""
   ]
  },
  {
   "cell_type": "code",
   "execution_count": 2,
   "id": "697fcb52",
   "metadata": {},
   "outputs": [
    {
     "data": {
      "text/plain": [
       "salut: String = New value\n",
       "salut: String = New value\n"
      ]
     },
     "execution_count": 2,
     "metadata": {},
     "output_type": "execute_result"
    }
   ],
   "source": [
    "// Defining a variable\n",
    "var salut: String = \"Hello!\"\n",
    "\n",
    "salut = \"New value\""
   ]
  },
  {
   "cell_type": "code",
   "execution_count": 3,
   "id": "d1291a68",
   "metadata": {},
   "outputs": [
    {
     "name": "stdout",
     "output_type": "stream",
     "text": [
      "New value\n"
     ]
    }
   ],
   "source": [
    "// Print\n",
    "println(salut)"
   ]
  },
  {
   "cell_type": "markdown",
   "id": "85b625b9",
   "metadata": {},
   "source": [
    "## Data types"
   ]
  },
  {
   "cell_type": "code",
   "execution_count": 4,
   "id": "2e596cad",
   "metadata": {},
   "outputs": [
    {
     "data": {
      "text/plain": [
       "numberOne: Int = 1\n"
      ]
     },
     "execution_count": 4,
     "metadata": {},
     "output_type": "execute_result"
    }
   ],
   "source": [
    "val numberOne: Int = 1 // 2 3 4 5 6 ..."
   ]
  },
  {
   "cell_type": "code",
   "execution_count": 5,
   "id": "a52c1f1d",
   "metadata": {},
   "outputs": [
    {
     "data": {
      "text/plain": [
       "truth: Boolean = true\n"
      ]
     },
     "execution_count": 5,
     "metadata": {},
     "output_type": "execute_result"
    }
   ],
   "source": [
    "val truth: Boolean = true // false"
   ]
  },
  {
   "cell_type": "code",
   "execution_count": 6,
   "id": "670069f8",
   "metadata": {},
   "outputs": [
    {
     "data": {
      "text/plain": [
       "letterA: Char = a\n"
      ]
     },
     "execution_count": 6,
     "metadata": {},
     "output_type": "execute_result"
    }
   ],
   "source": [
    "val letterA: Char = 'a' // Single character"
   ]
  },
  {
   "cell_type": "code",
   "execution_count": 7,
   "id": "41887dd5",
   "metadata": {},
   "outputs": [
    {
     "data": {
      "text/plain": [
       "pi: Double = 3.1415\n"
      ]
     },
     "execution_count": 7,
     "metadata": {},
     "output_type": "execute_result"
    }
   ],
   "source": [
    "val pi: Double = 3.1415"
   ]
  },
  {
   "cell_type": "code",
   "execution_count": 8,
   "id": "cf21f0a4",
   "metadata": {},
   "outputs": [
    {
     "data": {
      "text/plain": [
       "piSinglePrecision: Float = 3.1415\n"
      ]
     },
     "execution_count": 8,
     "metadata": {},
     "output_type": "execute_result"
    }
   ],
   "source": [
    "val piSinglePrecision: Float = 3.1415f"
   ]
  },
  {
   "cell_type": "code",
   "execution_count": 9,
   "id": "f5f996f9",
   "metadata": {},
   "outputs": [
    {
     "data": {
      "text/plain": [
       "bigNumber: Long = 123456789\n"
      ]
     },
     "execution_count": 9,
     "metadata": {},
     "output_type": "execute_result"
    }
   ],
   "source": [
    "val bigNumber: Long = 123456789"
   ]
  },
  {
   "cell_type": "code",
   "execution_count": 10,
   "id": "81843691",
   "metadata": {},
   "outputs": [
    {
     "data": {
      "text/plain": [
       "smallNumber: Byte = 127\n"
      ]
     },
     "execution_count": 10,
     "metadata": {},
     "output_type": "execute_result"
    }
   ],
   "source": [
    "val smallNumber: Byte = 127 // -127 to 127 or up to 255 without the signal"
   ]
  },
  {
   "cell_type": "code",
   "execution_count": 11,
   "id": "6acf0025",
   "metadata": {},
   "outputs": [
    {
     "name": "stdout",
     "output_type": "stream",
     "text": [
      "Concatenate different data type: 1true3.1415127\n"
     ]
    }
   ],
   "source": [
    "println(\"Concatenate different data type: \" + numberOne + truth + pi + smallNumber)"
   ]
  },
  {
   "cell_type": "code",
   "execution_count": 12,
   "id": "949fb261",
   "metadata": {},
   "outputs": [
    {
     "name": "stdout",
     "output_type": "stream",
     "text": [
      "Formatted string 3.14\n"
     ]
    }
   ],
   "source": [
    "println(f\"Formatted string $piSinglePrecision%.2f\")"
   ]
  },
  {
   "cell_type": "code",
   "execution_count": 13,
   "id": "146abef9",
   "metadata": {},
   "outputs": [
    {
     "name": "stdout",
     "output_type": "stream",
     "text": [
      "Zero padding on the left: 00001\n"
     ]
    }
   ],
   "source": [
    "println(f\"Zero padding on the left: $numberOne%05d\")"
   ]
  },
  {
   "cell_type": "code",
   "execution_count": 14,
   "id": "a5660e60",
   "metadata": {},
   "outputs": [
    {
     "name": "stdout",
     "output_type": "stream",
     "text": [
      "Using the s prefix to print 1 true\n"
     ]
    }
   ],
   "source": [
    "println(s\"Using the s prefix to print $numberOne $truth\")"
   ]
  },
  {
   "cell_type": "code",
   "execution_count": 15,
   "id": "7e2bd6e0",
   "metadata": {},
   "outputs": [
    {
     "name": "stdout",
     "output_type": "stream",
     "text": [
      "Using the s prefix with expressions like 1 + 1 = 2\n"
     ]
    }
   ],
   "source": [
    "println(s\"Using the s prefix with expressions like 1 + 1 = ${1 + 1}\")"
   ]
  },
  {
   "cell_type": "code",
   "execution_count": 16,
   "id": "78aa58a3",
   "metadata": {},
   "outputs": [
    {
     "name": "stdout",
     "output_type": "stream",
     "text": [
      "42\n"
     ]
    },
    {
     "data": {
      "text/plain": [
       "theUltimateAnwser: String = To life, the universe, and everything is 42.\n",
       "pattern: scala.util.matching.Regex = .* ([\\d]+).*\n",
       "anwserString: String = 42\n",
       "anwser: Int = 42\n"
      ]
     },
     "execution_count": 16,
     "metadata": {},
     "output_type": "execute_result"
    }
   ],
   "source": [
    "// Regular expressions\n",
    "val theUltimateAnwser: String = \"To life, the universe, and everything is 42.\"\n",
    "\n",
    "val pattern = \"\"\".* ([\\d]+).*\"\"\".r\n",
    "\n",
    "val pattern(anwserString) = theUltimateAnwser\n",
    "\n",
    "val anwser = anwserString.toInt\n",
    "\n",
    "println(anwser)"
   ]
  },
  {
   "cell_type": "code",
   "execution_count": 17,
   "id": "6328947d",
   "metadata": {},
   "outputs": [
    {
     "data": {
      "text/plain": [
       "isGreater: Boolean = false\n",
       "isLesser: Boolean = true\n",
       "impossible: Boolean = false\n",
       "anotherWay: Boolean = false\n",
       "logicalOperator: Boolean = true\n"
      ]
     },
     "execution_count": 17,
     "metadata": {},
     "output_type": "execute_result"
    }
   ],
   "source": [
    "val isGreater: Boolean = 1 > 2\n",
    "\n",
    "val isLesser: Boolean = 1 < 2\n",
    "\n",
    "val impossible = isGreater & isLesser// bitwise\n",
    "\n",
    "val anotherWay = isGreater && isLesser// logical\n",
    "\n",
    "val logicalOperator = isGreater || isLesser"
   ]
  },
  {
   "cell_type": "code",
   "execution_count": 18,
   "id": "bd30489d",
   "metadata": {},
   "outputs": [
    {
     "data": {
      "text/plain": [
       "picard: String = Picard\n",
       "bestCaptain: String = Picard\n",
       "isBest: Boolean = true\n"
      ]
     },
     "execution_count": 18,
     "metadata": {},
     "output_type": "execute_result"
    }
   ],
   "source": [
    "val picard: String = \"Picard\"\n",
    "\n",
    "val bestCaptain: String = \"Picard\"\n",
    "\n",
    "// Compare the actual content of the string and not the object reference\n",
    "val isBest: Boolean = picard == bestCaptain"
   ]
  },
  {
   "cell_type": "markdown",
   "id": "9f501104",
   "metadata": {},
   "source": [
    "## Flow control"
   ]
  },
  {
   "cell_type": "code",
   "execution_count": 19,
   "id": "bf660f1f",
   "metadata": {},
   "outputs": [
    {
     "name": "stdout",
     "output_type": "stream",
     "text": [
      "The world makes sense.\n"
     ]
    }
   ],
   "source": [
    "if(1 > 3) println(\"Impossible.\") else println(\"The world makes sense.\")"
   ]
  },
  {
   "cell_type": "code",
   "execution_count": 20,
   "id": "0d9b50b4",
   "metadata": {},
   "outputs": [
    {
     "name": "stdout",
     "output_type": "stream",
     "text": [
      "The world makes sense.\n"
     ]
    }
   ],
   "source": [
    "if(1 > 3){\n",
    "    println(\"Impossible.\")\n",
    "} else{\n",
    "    println(\"The world makes sense.\")\n",
    "}"
   ]
  },
  {
   "cell_type": "code",
   "execution_count": 21,
   "id": "dc174c11",
   "metadata": {},
   "outputs": [
    {
     "name": "stdout",
     "output_type": "stream",
     "text": [
      "Three"
     ]
    },
    {
     "data": {
      "text/plain": [
       "number: Int = 3\n"
      ]
     },
     "execution_count": 21,
     "metadata": {},
     "output_type": "execute_result"
    }
   ],
   "source": [
    "// Switch\n",
    "val number = 3\n",
    "number match{\n",
    "    case 1 => print(\"One\")\n",
    "    case 2 => print(\"Two\")\n",
    "    case 3 => print(\"Three\")\n",
    "    case _ => print(\"Something else\")\n",
    "}"
   ]
  },
  {
   "cell_type": "code",
   "execution_count": 22,
   "id": "6533092a",
   "metadata": {},
   "outputs": [
    {
     "name": "stdout",
     "output_type": "stream",
     "text": [
      "1\n",
      "2\n",
      "3\n",
      "4\n"
     ]
    }
   ],
   "source": [
    "// For loop\n",
    "for(x <- 1 to 4){\n",
    "    println(x)\n",
    "}"
   ]
  },
  {
   "cell_type": "code",
   "execution_count": 23,
   "id": "34da6695",
   "metadata": {},
   "outputs": [
    {
     "name": "stdout",
     "output_type": "stream",
     "text": [
      "10\n",
      "9\n",
      "8\n",
      "7\n",
      "6\n",
      "5\n",
      "4\n",
      "3\n",
      "2\n",
      "1\n",
      "0\n"
     ]
    },
    {
     "data": {
      "text/plain": [
       "x: Int = -1\n"
      ]
     },
     "execution_count": 23,
     "metadata": {},
     "output_type": "execute_result"
    }
   ],
   "source": [
    "// While loop\n",
    "var x = 10\n",
    "while (x >= 0){\n",
    "    println(x)\n",
    "    x -= 1\n",
    "}"
   ]
  },
  {
   "cell_type": "code",
   "execution_count": 24,
   "id": "f65075ea",
   "metadata": {},
   "outputs": [
    {
     "name": "stdout",
     "output_type": "stream",
     "text": [
      "0\n",
      "1\n",
      "2\n",
      "3\n",
      "4\n",
      "5\n",
      "6\n",
      "7\n",
      "8\n",
      "9\n",
      "10\n"
     ]
    },
    {
     "data": {
      "text/plain": [
       "x: Int = 11\n"
      ]
     },
     "execution_count": 24,
     "metadata": {},
     "output_type": "execute_result"
    }
   ],
   "source": [
    "// Do while loop\n",
    "\n",
    "x = 0\n",
    "do {\n",
    "    println(x)\n",
    "    x += 1\n",
    "}while(x <= 10)"
   ]
  },
  {
   "cell_type": "code",
   "execution_count": 25,
   "id": "9bf7c5fc",
   "metadata": {},
   "outputs": [
    {
     "data": {
      "text/plain": [
       "x: Int = 10\n",
       "res13: Int = 30\n"
      ]
     },
     "execution_count": 25,
     "metadata": {},
     "output_type": "execute_result"
    }
   ],
   "source": [
    "// Expressions: implicitly return the value of the expression\n",
    "val x = 10 \n",
    "x +20 // The last  code executed in a block is returned"
   ]
  },
  {
   "cell_type": "markdown",
   "id": "8a0579b9",
   "metadata": {},
   "source": [
    "## Functions"
   ]
  },
  {
   "cell_type": "code",
   "execution_count": 26,
   "id": "f6f4bf79",
   "metadata": {},
   "outputs": [],
   "source": [
    "// syntax: def <function_name>(parameter_name: type...) : return type = {}"
   ]
  },
  {
   "cell_type": "code",
   "execution_count": 27,
   "id": "8415b806",
   "metadata": {},
   "outputs": [
    {
     "data": {
      "text/plain": [
       "squareIt: (x: Int)Int\n",
       "res15: Int = 4\n"
      ]
     },
     "execution_count": 27,
     "metadata": {},
     "output_type": "execute_result"
    }
   ],
   "source": [
    "def squareIt(x: Int) : Int = {\n",
    "    x * x // Implicity return\n",
    "}\n",
    "squareIt(2)"
   ]
  },
  {
   "cell_type": "code",
   "execution_count": 28,
   "id": "2f58e021",
   "metadata": {},
   "outputs": [
    {
     "data": {
      "text/plain": [
       "transformInt: (x: Int, f: Int => Int)Int\n",
       "res16: Int = 4\n"
      ]
     },
     "execution_count": 28,
     "metadata": {},
     "output_type": "execute_result"
    }
   ],
   "source": [
    "// Functions can take other funcitons as parameters\n",
    "\n",
    "def transformInt(x:Int, f: Int => Int) : Int = {\n",
    "    f(x)\n",
    "} // f = function that takes an integer and returns another integer\n",
    "\n",
    "transformInt(2, squareIt)\n"
   ]
  },
  {
   "cell_type": "code",
   "execution_count": 29,
   "id": "82e68cba",
   "metadata": {},
   "outputs": [
    {
     "data": {
      "text/plain": [
       "transformPower: (someNum: Double, anotherNum: Double, f: (Double, Double) => Double)Double\n",
       "res17: Double = 4.0\n"
      ]
     },
     "execution_count": 29,
     "metadata": {},
     "output_type": "execute_result"
    }
   ],
   "source": [
    "// Another example\n",
    "def transformPower(someNum: Double, anotherNum: Double, f : (Double, Double) => Double) : Double = {\n",
    "    f(someNum, anotherNum)\n",
    "}\n",
    "\n",
    "transformPower(2,2,scala.math.pow)"
   ]
  },
  {
   "cell_type": "code",
   "execution_count": 30,
   "id": "0688dde2",
   "metadata": {},
   "outputs": [
    {
     "data": {
      "text/plain": [
       "res18: Int = 27\n"
      ]
     },
     "execution_count": 30,
     "metadata": {},
     "output_type": "execute_result"
    }
   ],
   "source": [
    "// Lambda\n",
    "\n",
    "transformInt(3, x => x * x * x)"
   ]
  },
  {
   "cell_type": "code",
   "execution_count": 31,
   "id": "28cd5616",
   "metadata": {},
   "outputs": [
    {
     "data": {
      "text/plain": [
       "res19: Int = 27\n"
      ]
     },
     "execution_count": 31,
     "metadata": {},
     "output_type": "execute_result"
    }
   ],
   "source": [
    "transformInt(3, x => scala.math.pow(x.toDouble, x.toDouble).toInt)"
   ]
  },
  {
   "cell_type": "code",
   "execution_count": 32,
   "id": "84d22d13",
   "metadata": {},
   "outputs": [
    {
     "data": {
      "text/plain": [
       "res20: Int = 16\n"
      ]
     },
     "execution_count": 32,
     "metadata": {},
     "output_type": "execute_result"
    }
   ],
   "source": [
    "// Multiline lambda\n",
    "transformInt(2, x => {val y = x * 2 ; y * y})"
   ]
  },
  {
   "cell_type": "code",
   "execution_count": 33,
   "id": "e47e0c4b",
   "metadata": {},
   "outputs": [
    {
     "data": {
      "text/plain": [
       "toUpper: (s: String)String\n",
       "transformStrint: (s: String, f: String => String)String\n",
       "res21: String = FOO\n"
      ]
     },
     "execution_count": 33,
     "metadata": {},
     "output_type": "execute_result"
    }
   ],
   "source": [
    "def toUpper(s : String) : String = {\n",
    "    s.toUpperCase();\n",
    "}\n",
    "def transformStrint(s : String, f : String => String) : String = {\n",
    "    f(s)\n",
    "}\n",
    "transformStrint(\"foo\", toUpper)"
   ]
  },
  {
   "cell_type": "code",
   "execution_count": 34,
   "id": "4cc019a9",
   "metadata": {},
   "outputs": [
    {
     "data": {
      "text/plain": [
       "res22: String = BAR\n"
      ]
     },
     "execution_count": 34,
     "metadata": {},
     "output_type": "execute_result"
    }
   ],
   "source": [
    "transformStrint(\"bar\", x => x.toUpperCase())"
   ]
  },
  {
   "cell_type": "markdown",
   "id": "cced0719",
   "metadata": {},
   "source": [
    "## Data structures\n",
    "* Tuples: 1-based index collection of any type\n",
    "* Lists: 0-based index collection of the same type\n",
    "  * map\n",
    "  * reduce\n",
    "  * filter\n",
    "  * ++ (concatenate)\n",
    "  * reverse\n",
    "  * sorted\n",
    "  * distinct\n",
    "  * max\n",
    "  * min\n",
    "  * sum\n",
    "  * contains\n",
    "* maps"
   ]
  },
  {
   "cell_type": "code",
   "execution_count": 35,
   "id": "595c2f26",
   "metadata": {},
   "outputs": [
    {
     "name": "stdout",
     "output_type": "stream",
     "text": [
      "Picard\n",
      "Enterprise-D\n"
     ]
    },
    {
     "data": {
      "text/plain": [
       "captainStuff: (String, String) = (Picard,Enterprise-D)\n"
      ]
     },
     "execution_count": 35,
     "metadata": {},
     "output_type": "execute_result"
    }
   ],
   "source": [
    "// Tuples\n",
    "val captainStuff = (\"Picard\", \"Enterprise-D\")\n",
    "\n",
    "// Refer to the fields with 1-based index\n",
    "println(captainStuff._1)\n",
    "println(captainStuff._2)"
   ]
  },
  {
   "cell_type": "code",
   "execution_count": 36,
   "id": "6eff5299",
   "metadata": {},
   "outputs": [
    {
     "name": "stdout",
     "output_type": "stream",
     "text": [
      "Picard\n",
      "Enterprise-D\n"
     ]
    },
    {
     "data": {
      "text/plain": [
       "picardsShip: (String, String) = (Picard,Enterprise-D)\n"
      ]
     },
     "execution_count": 36,
     "metadata": {},
     "output_type": "execute_result"
    }
   ],
   "source": [
    "// Key value pairs\n",
    "\n",
    "val picardsShip = \"Picard\" -> \"Enterprise-D\"\n",
    "\n",
    "println(picardsShip._1) // Key\n",
    "println(picardsShip._2) // Value"
   ]
  },
  {
   "cell_type": "code",
   "execution_count": 37,
   "id": "559ad886",
   "metadata": {},
   "outputs": [
    {
     "data": {
      "text/plain": [
       "mixDataTypes: (String, Int, Boolean) = (String,1234,true)\n"
      ]
     },
     "execution_count": 37,
     "metadata": {},
     "output_type": "execute_result"
    }
   ],
   "source": [
    "val mixDataTypes = (\"String\", 1234, true)"
   ]
  },
  {
   "cell_type": "code",
   "execution_count": 38,
   "id": "d303bc57",
   "metadata": {},
   "outputs": [
    {
     "name": "stdout",
     "output_type": "stream",
     "text": [
      "Defiant\n",
      "Enterprise\n",
      "List(Defiant, Voyager)\n",
      "Enterprise\n",
      "Defiant\n",
      "Voyager\n"
     ]
    },
    {
     "data": {
      "text/plain": [
       "shipList: List[String] = List(Enterprise, Defiant, Voyager)\n"
      ]
     },
     "execution_count": 38,
     "metadata": {},
     "output_type": "execute_result"
    }
   ],
   "source": [
    "val shipList = List(\"Enterprise\", \"Defiant\", \"Voyager\")\n",
    "println(shipList(1))\n",
    "println(shipList.head)\n",
    "println(shipList.tail) // All the remaining items after the first\n",
    "\n",
    "for ( ship <- shipList ){\n",
    "    println(ship)\n",
    "}"
   ]
  },
  {
   "cell_type": "code",
   "execution_count": 39,
   "id": "a65fc8d7",
   "metadata": {},
   "outputs": [
    {
     "data": {
      "text/plain": [
       "backwardsShips: List[String] = List(esirpretnE, tnaifeD, regayoV)\n"
      ]
     },
     "execution_count": 39,
     "metadata": {},
     "output_type": "execute_result"
    }
   ],
   "source": [
    "val backwardsShips = shipList.map( (ship: String) => {ship.reverse} )"
   ]
  },
  {
   "cell_type": "code",
   "execution_count": 40,
   "id": "6bd910d4",
   "metadata": {},
   "outputs": [
    {
     "data": {
      "text/plain": [
       "numberList: List[Int] = List(1, 2, 3, 4, 5)\n",
       "sum: Int = 15\n"
      ]
     },
     "execution_count": 40,
     "metadata": {},
     "output_type": "execute_result"
    }
   ],
   "source": [
    "val numberList = List(1,2,3,4,5)\n",
    "val sum = numberList.reduce( (previous:Int, current:Int) => {previous + current} )"
   ]
  },
  {
   "cell_type": "code",
   "execution_count": 41,
   "id": "f36a25ae",
   "metadata": {},
   "outputs": [
    {
     "data": {
      "text/plain": [
       "iHateFives: List[Int] = List(1, 2, 3, 4)\n"
      ]
     },
     "execution_count": 41,
     "metadata": {},
     "output_type": "execute_result"
    }
   ],
   "source": [
    "val iHateFives = numberList.filter( (x: Int) => { x != 5 } )"
   ]
  },
  {
   "cell_type": "code",
   "execution_count": 42,
   "id": "44799e82",
   "metadata": {},
   "outputs": [
    {
     "data": {
      "text/plain": [
       "iHateThrees: List[Int] = List(1, 2, 4, 5)\n"
      ]
     },
     "execution_count": 42,
     "metadata": {},
     "output_type": "execute_result"
    }
   ],
   "source": [
    "// short hand _\n",
    "val iHateThrees = numberList.filter( _ != 3 )"
   ]
  },
  {
   "cell_type": "code",
   "execution_count": 43,
   "id": "8e708e74",
   "metadata": {},
   "outputs": [
    {
     "data": {
      "text/plain": [
       "moreNumbers: List[Int] = List(6, 7, 8, 9, 0)\n",
       "allNumbers: List[Int] = List(1, 2, 3, 4, 5, 6, 7, 8, 9, 0)\n"
      ]
     },
     "execution_count": 43,
     "metadata": {},
     "output_type": "execute_result"
    }
   ],
   "source": [
    "// Concatenate lists\n",
    "val moreNumbers = List(6,7,8,9,0)\n",
    "val allNumbers = numberList ++ moreNumbers"
   ]
  },
  {
   "cell_type": "code",
   "execution_count": 44,
   "id": "7549c431",
   "metadata": {},
   "outputs": [
    {
     "name": "stdout",
     "output_type": "stream",
     "text": [
      "List(5, 4, 3, 2, 1)\n",
      "List(1, 2, 3, 4, 5)\n"
     ]
    }
   ],
   "source": [
    "println(numberList.reverse)\n",
    "println(numberList.reverse.sorted)"
   ]
  },
  {
   "cell_type": "code",
   "execution_count": 45,
   "id": "d28678a3",
   "metadata": {},
   "outputs": [
    {
     "data": {
      "text/plain": [
       "duplicates: List[Int] = List(1, 2, 3, 4, 5, 1, 2, 3, 4, 5)\n",
       "res27: List[Int] = List(1, 2, 3, 4, 5)\n"
      ]
     },
     "execution_count": 45,
     "metadata": {},
     "output_type": "execute_result"
    }
   ],
   "source": [
    "val duplicates = numberList ++ numberList\n",
    "duplicates.distinct"
   ]
  },
  {
   "cell_type": "code",
   "execution_count": 46,
   "id": "6e571254",
   "metadata": {},
   "outputs": [
    {
     "data": {
      "text/plain": [
       "res28: Boolean = false\n"
      ]
     },
     "execution_count": 46,
     "metadata": {},
     "output_type": "execute_result"
    }
   ],
   "source": [
    "iHateThrees.contains(3)"
   ]
  },
  {
   "cell_type": "code",
   "execution_count": 47,
   "id": "c1f72439",
   "metadata": {},
   "outputs": [
    {
     "data": {
      "text/plain": [
       "shipMap: scala.collection.immutable.Map[String,String] = Map(Kirk -> Enterprise, Picard -> Enterprise-D)\n"
      ]
     },
     "execution_count": 47,
     "metadata": {},
     "output_type": "execute_result"
    }
   ],
   "source": [
    "// Maps\n",
    "val shipMap = Map(\"Kirk\" -> \"Enterprise\", \"Picard\" -> \"Enterprise-D\")"
   ]
  },
  {
   "cell_type": "code",
   "execution_count": 48,
   "id": "402d2aff",
   "metadata": {},
   "outputs": [
    {
     "data": {
      "text/plain": [
       "res29: String = Enterprise\n"
      ]
     },
     "execution_count": 48,
     "metadata": {},
     "output_type": "execute_result"
    }
   ],
   "source": [
    "shipMap(\"Kirk\")"
   ]
  },
  {
   "cell_type": "code",
   "execution_count": 49,
   "id": "180aeac3",
   "metadata": {},
   "outputs": [
    {
     "data": {
      "text/plain": [
       "res30: Boolean = false\n"
      ]
     },
     "execution_count": 49,
     "metadata": {},
     "output_type": "execute_result"
    }
   ],
   "source": [
    "shipMap.contains(\"NotThere\")"
   ]
  },
  {
   "cell_type": "code",
   "execution_count": 50,
   "id": "e039dd33",
   "metadata": {},
   "outputs": [
    {
     "data": {
      "text/plain": [
       "archerShip: String = Unknown\n"
      ]
     },
     "execution_count": 50,
     "metadata": {},
     "output_type": "execute_result"
    }
   ],
   "source": [
    "val archerShip = util.Try(shipMap(\"Archer\")) getOrElse \"Unknown\""
   ]
  }
 ],
 "metadata": {
  "kernelspec": {
   "display_name": "spylon-kernel",
   "language": "scala",
   "name": "spylon-kernel"
  },
  "language_info": {
   "codemirror_mode": "text/x-scala",
   "file_extension": ".scala",
   "help_links": [
    {
     "text": "MetaKernel Magics",
     "url": "https://metakernel.readthedocs.io/en/latest/source/README.html"
    }
   ],
   "mimetype": "text/x-scala",
   "name": "scala",
   "pygments_lexer": "scala",
   "version": "0.4.1"
  }
 },
 "nbformat": 4,
 "nbformat_minor": 5
}
