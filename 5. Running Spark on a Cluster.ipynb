{
 "cells": [
  {
   "cell_type": "markdown",
   "id": "e2f68646",
   "metadata": {},
   "source": [
    "# Running Spark on a Cluster\n",
    "\n",
    "Use spark-submit to run standalone .jar driver scripts with the following syntax:\n",
    "```shell\n",
    "$ spark-submit --class <class that contains the main function>\n",
    "--jars <path to any dependencies>\n",
    "--files <files placed alongside the application>\n",
    "<JAR file>\n",
    "```\n",
    "\n",
    "### Example using the HelloWorld.scala\n",
    "\n",
    "Compile the .scala file to .jar using sbt:\n",
    "```shell\n",
    "$ sbt package\n",
    "```\n",
    "\n",
    "Compile using sbt doc: http://spark.apache.org/docs/1.2.0/quick-start.html#self-contained-applications\n",
    "\n",
    "Execute .jar file\n",
    "```shell\n",
    "$ spark-submit target/scala-2.12/hello-world_2.12-1.0.jar\n",
    "```"
   ]
  }
 ],
 "metadata": {
  "kernelspec": {
   "display_name": "spylon-kernel",
   "language": "scala",
   "name": "spylon-kernel"
  },
  "language_info": {
   "codemirror_mode": "text/x-scala",
   "file_extension": ".scala",
   "help_links": [
    {
     "text": "MetaKernel Magics",
     "url": "https://metakernel.readthedocs.io/en/latest/source/README.html"
    }
   ],
   "mimetype": "text/x-scala",
   "name": "scala",
   "pygments_lexer": "scala",
   "version": "0.4.1"
  }
 },
 "nbformat": 4,
 "nbformat_minor": 5
}
